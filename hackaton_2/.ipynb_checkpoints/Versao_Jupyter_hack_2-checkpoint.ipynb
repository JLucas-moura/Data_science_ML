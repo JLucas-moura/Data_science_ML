{
 "cells": [
  {
   "cell_type": "markdown",
   "id": "23e14c39-c78a-48b5-9992-4f846db1fd71",
   "metadata": {
    "tags": []
   },
   "source": [
    "# Análise dos dados de doenças do coração"
   ]
  },
  {
   "cell_type": "markdown",
   "id": "8976e6fc-7e01-408a-9c12-04c28eb8cf0d",
   "metadata": {},
   "source": [
    "## Tratamento dos dados"
   ]
  },
  {
   "cell_type": "markdown",
   "id": "84ab6900-24da-423f-a296-e2626af146d5",
   "metadata": {},
   "source": [
    "Para iniciar, usaremos as seguintes bibliotecas do Python:"
   ]
  },
  {
   "cell_type": "code",
   "execution_count": 55,
   "id": "730c53fb-df93-48bc-b74f-6a9bff68b816",
   "metadata": {},
   "outputs": [],
   "source": [
    "import pandas as pd\n",
    "import os\n",
    "import matplotlib.pyplot as plt\n",
    "import seaborn as sns"
   ]
  },
  {
   "cell_type": "markdown",
   "id": "1d4e339c-31da-4115-b0af-13f0e223afa0",
   "metadata": {},
   "source": [
    "Para a análise dos dados clínicos dos pacientes utilizaremos a base de dados disponibilizadas em aulas.\n",
    "\n",
    "Primeiramente, vamos ler os dados do nosso repositório:"
   ]
  },
  {
   "cell_type": "code",
   "execution_count": 54,
   "id": "3d5ae2c7-9d91-4315-a23e-2d232a31e0c2",
   "metadata": {},
   "outputs": [
    {
     "data": {
      "text/html": [
       "<div>\n",
       "<style scoped>\n",
       "    .dataframe tbody tr th:only-of-type {\n",
       "        vertical-align: middle;\n",
       "    }\n",
       "\n",
       "    .dataframe tbody tr th {\n",
       "        vertical-align: top;\n",
       "    }\n",
       "\n",
       "    .dataframe thead th {\n",
       "        text-align: right;\n",
       "    }\n",
       "</style>\n",
       "<table border=\"1\" class=\"dataframe\">\n",
       "  <thead>\n",
       "    <tr style=\"text-align: right;\">\n",
       "      <th></th>\n",
       "      <th>HeartDisease</th>\n",
       "      <th>BMI</th>\n",
       "      <th>Smoking</th>\n",
       "      <th>AlcoholDrinking</th>\n",
       "      <th>Stroke</th>\n",
       "      <th>PhysicalHealth</th>\n",
       "      <th>MentalHealth</th>\n",
       "      <th>DiffWalking</th>\n",
       "      <th>Sex</th>\n",
       "      <th>AgeCategory</th>\n",
       "      <th>Race</th>\n",
       "      <th>Diabetic</th>\n",
       "      <th>PhysicalActivity</th>\n",
       "      <th>GenHealth</th>\n",
       "      <th>SleepTime</th>\n",
       "      <th>Asthma</th>\n",
       "      <th>KidneyDisease</th>\n",
       "      <th>SkinCancer</th>\n",
       "    </tr>\n",
       "  </thead>\n",
       "  <tbody>\n",
       "    <tr>\n",
       "      <th>0</th>\n",
       "      <td>No</td>\n",
       "      <td>16.60</td>\n",
       "      <td>Yes</td>\n",
       "      <td>No</td>\n",
       "      <td>No</td>\n",
       "      <td>3</td>\n",
       "      <td>30</td>\n",
       "      <td>No</td>\n",
       "      <td>Female</td>\n",
       "      <td>55-59</td>\n",
       "      <td>White</td>\n",
       "      <td>Yes</td>\n",
       "      <td>Yes</td>\n",
       "      <td>Very good</td>\n",
       "      <td>5</td>\n",
       "      <td>Yes</td>\n",
       "      <td>No</td>\n",
       "      <td>Yes</td>\n",
       "    </tr>\n",
       "    <tr>\n",
       "      <th>1</th>\n",
       "      <td>No</td>\n",
       "      <td>20.34</td>\n",
       "      <td>No</td>\n",
       "      <td>No</td>\n",
       "      <td>Yes</td>\n",
       "      <td>0</td>\n",
       "      <td>0</td>\n",
       "      <td>No</td>\n",
       "      <td>Female</td>\n",
       "      <td>80 or older</td>\n",
       "      <td>White</td>\n",
       "      <td>No</td>\n",
       "      <td>Yes</td>\n",
       "      <td>Very good</td>\n",
       "      <td>7</td>\n",
       "      <td>No</td>\n",
       "      <td>No</td>\n",
       "      <td>No</td>\n",
       "    </tr>\n",
       "    <tr>\n",
       "      <th>2</th>\n",
       "      <td>No</td>\n",
       "      <td>26.58</td>\n",
       "      <td>Yes</td>\n",
       "      <td>No</td>\n",
       "      <td>No</td>\n",
       "      <td>20</td>\n",
       "      <td>30</td>\n",
       "      <td>No</td>\n",
       "      <td>Male</td>\n",
       "      <td>65-69</td>\n",
       "      <td>White</td>\n",
       "      <td>Yes</td>\n",
       "      <td>Yes</td>\n",
       "      <td>Fair</td>\n",
       "      <td>8</td>\n",
       "      <td>Yes</td>\n",
       "      <td>No</td>\n",
       "      <td>No</td>\n",
       "    </tr>\n",
       "    <tr>\n",
       "      <th>3</th>\n",
       "      <td>No</td>\n",
       "      <td>24.21</td>\n",
       "      <td>No</td>\n",
       "      <td>No</td>\n",
       "      <td>No</td>\n",
       "      <td>0</td>\n",
       "      <td>0</td>\n",
       "      <td>No</td>\n",
       "      <td>Female</td>\n",
       "      <td>75-79</td>\n",
       "      <td>White</td>\n",
       "      <td>No</td>\n",
       "      <td>No</td>\n",
       "      <td>Good</td>\n",
       "      <td>6</td>\n",
       "      <td>No</td>\n",
       "      <td>No</td>\n",
       "      <td>Yes</td>\n",
       "    </tr>\n",
       "    <tr>\n",
       "      <th>4</th>\n",
       "      <td>No</td>\n",
       "      <td>23.71</td>\n",
       "      <td>No</td>\n",
       "      <td>No</td>\n",
       "      <td>No</td>\n",
       "      <td>28</td>\n",
       "      <td>0</td>\n",
       "      <td>Yes</td>\n",
       "      <td>Female</td>\n",
       "      <td>40-44</td>\n",
       "      <td>White</td>\n",
       "      <td>No</td>\n",
       "      <td>Yes</td>\n",
       "      <td>Very good</td>\n",
       "      <td>8</td>\n",
       "      <td>No</td>\n",
       "      <td>No</td>\n",
       "      <td>No</td>\n",
       "    </tr>\n",
       "  </tbody>\n",
       "</table>\n",
       "</div>"
      ],
      "text/plain": [
       "  HeartDisease    BMI Smoking AlcoholDrinking Stroke  PhysicalHealth  \\\n",
       "0           No  16.60     Yes              No     No               3   \n",
       "1           No  20.34      No              No    Yes               0   \n",
       "2           No  26.58     Yes              No     No              20   \n",
       "3           No  24.21      No              No     No               0   \n",
       "4           No  23.71      No              No     No              28   \n",
       "\n",
       "   MentalHealth DiffWalking     Sex  AgeCategory   Race Diabetic  \\\n",
       "0            30          No  Female        55-59  White      Yes   \n",
       "1             0          No  Female  80 or older  White       No   \n",
       "2            30          No    Male        65-69  White      Yes   \n",
       "3             0          No  Female        75-79  White       No   \n",
       "4             0         Yes  Female        40-44  White       No   \n",
       "\n",
       "  PhysicalActivity  GenHealth  SleepTime Asthma KidneyDisease SkinCancer  \n",
       "0              Yes  Very good          5    Yes            No        Yes  \n",
       "1              Yes  Very good          7     No            No         No  \n",
       "2              Yes       Fair          8    Yes            No         No  \n",
       "3               No       Good          6     No            No        Yes  \n",
       "4              Yes  Very good          8     No            No         No  "
      ]
     },
     "execution_count": 54,
     "metadata": {},
     "output_type": "execute_result"
    }
   ],
   "source": [
    "df = pd.read_excel('heart_disease.xlsx', 'data')\n",
    "\n",
    "df.head(5)"
   ]
  },
  {
   "cell_type": "markdown",
   "id": "9f85edd6-79c9-44e2-9a14-567b801637c1",
   "metadata": {},
   "source": [
    "Como podemos ver, temos algumas características relacionadas a cada paciente. Através desses dados tentaremos traçar algumas variáveis explicativas para doença no coração."
   ]
  },
  {
   "cell_type": "markdown",
   "id": "373e36f4-c13d-474a-a7c7-23b961de7503",
   "metadata": {},
   "source": [
    "## Estatística descritiva básica"
   ]
  },
  {
   "cell_type": "markdown",
   "id": "235dfed2-8668-4607-8a75-7cf42e49527f",
   "metadata": {},
   "source": [
    "Para facilitar a elaboração dos dados, faremos a função \"get_plot()\" para plotar os gráficos de acordo com as variáveis desejadas."
   ]
  },
  {
   "cell_type": "code",
   "execution_count": 83,
   "id": "86d794c5-a044-4933-8121-bfdf1cd8301c",
   "metadata": {},
   "outputs": [],
   "source": [
    "def get_plot(variaveis, k):\n",
    "\n",
    "        df_plot = df.groupby([variaveis]).mean().reset_index()\n",
    "        df_plot = df_plot.melt(id_vars=variaveis,\n",
    "                               value_vars=[\"BMI\", \"PhysicalHealth\", \"MentalHealth\", \"SleepTime\"])\n",
    "        sns.barplot(data = df_plot, x=\"variable\", y=\"value\", hue=variaveis)\n",
    "        plt.rcParams['figure.dpi']= k"
   ]
  },
  {
   "cell_type": "markdown",
   "id": "8210fe18-338e-4268-88ad-50d34f070449",
   "metadata": {},
   "source": [
    "Nossos dados possuem apenas 4 variáveis quantitativas e 14 classificatórias. Por conta disso, travaremos as variáveis quantitativas e veremos como se comportam quando alteramos as variáveis de classificação."
   ]
  },
  {
   "cell_type": "code",
   "execution_count": 86,
   "id": "79c25aa7-0a6a-4db0-a840-a1e764ea117e",
   "metadata": {},
   "outputs": [
    {
     "data": {
      "image/png": "[encoded data removed]",
      "text/plain": [
       "<Figure size 500x500 with 1 Axes>"
      ]
     },
     "metadata": {
      "needs_background": "light"
     },
     "output_type": "display_data"
    }
   ],
   "source": [
    "get_plot('HeartDisease', 50)"
   ]
  },
  {
   "cell_type": "markdown",
   "id": "b45a3891-0df8-47ce-83db-12a6d5bd38b3",
   "metadata": {},
   "source": [
    "No caso acima, podemos perceber que pessoas com problemas no coração possuem um indicie de gordura maior, estão a mais dias com problemas de saúde e problemas psicológicos. Já o tempo de sono é equivalente.\n",
    "\n",
    "Agora, faremos o mesmo processo para quem consome bebidas alcoólicas."
   ]
  },
  {
   "cell_type": "code",
   "execution_count": 87,
   "id": "27f6c76f-6a72-4783-8fc0-8803d0e79fb1",
   "metadata": {},
   "outputs": [
    {
     "data": {
      "image/png": "[encoded data removed]",
      "text/plain": [
       "<Figure size 500x500 with 1 Axes>"
      ]
     },
     "metadata": {
      "needs_background": "light"
     },
     "output_type": "display_data"
    }
   ],
   "source": [
    "get_plot('AlcoholDrinking', 50)"
   ]
  },
  {
   "cell_type": "markdown",
   "id": "4521161b-2e95-47f0-b572-0f5f56bd3b54",
   "metadata": {},
   "source": [
    "Como podemos analisar no gráfico acima para os pacientes consumidores de bebidas alcoólicas temos um menor índice de gordura, menos dias com problemas físicos, mas um número maior de dias com problemas psicológicos."
   ]
  },
  {
   "cell_type": "markdown",
   "id": "cba7d036-b158-433d-879c-38a4d6a08abf",
   "metadata": {},
   "source": [
    "Agora, utilizando a mesma função para idade."
   ]
  },
  {
   "cell_type": "code",
   "execution_count": 88,
   "id": "daa86f57-9499-46cd-a067-19a2d98baa1b",
   "metadata": {},
   "outputs": [
    {
     "data": {
      "image/png": "[encoded data removed]",
      "text/plain": [
       "<Figure size 500x500 with 1 Axes>"
      ]
     },
     "metadata": {
      "needs_background": "light"
     },
     "output_type": "display_data"
    }
   ],
   "source": [
    "get_plot('AgeCategory', 50)"
   ]
  },
  {
   "cell_type": "markdown",
   "id": "ca5a8aa9-f7de-4979-85c2-789fb336118b",
   "metadata": {},
   "source": [
    "Também podemos ver diferentes resultados dependendo da idade do paciente."
   ]
  },
  {
   "cell_type": "markdown",
   "id": "bd32ede5-eb86-4ecc-9594-1599043425d4",
   "metadata": {},
   "source": [
    "## Elaborando histogramas"
   ]
  },
  {
   "cell_type": "markdown",
   "id": "048ef237-fca4-477a-bb87-9b243f4c5612",
   "metadata": {},
   "source": [
    "Para facilitar a analise, novamente faremos uma função para plotar alguns histogramas."
   ]
  },
  {
   "cell_type": "code",
   "execution_count": 91,
   "id": "27a7737a-fbe5-44a0-aed3-2eac779ca931",
   "metadata": {},
   "outputs": [],
   "source": [
    "def get_hist(variavel, bins):\n",
    "    plt.title(f'{variavel}')\n",
    "    plt.xlabel(f'{variavel}')\n",
    "    plt.ylabel('Frequência Absoluta')\n",
    "    plt.hist(df[f'{variavel}'], bins, rwidth=0.9)\n",
    "    plt.xticks(rotation=90)\n",
    "    plt.show()"
   ]
  },
  {
   "cell_type": "markdown",
   "id": "db8b11b8-39a5-45a9-9f42-951d8b94d2a9",
   "metadata": {},
   "source": [
    "Com essa função podemos escolher as distribuições de frequência das \"variáveis\" e também controlar o número de barras do gráfico com \"bins\".\n",
    "\n",
    "Agora faremos o histograma da variável \"BMI\", que está relacionada com gordura corporal"
   ]
  },
  {
   "cell_type": "code",
   "execution_count": 90,
   "id": "5c7ae3c9-26cc-4e48-96a5-d8f72e892b80",
   "metadata": {},
   "outputs": [
    {
     "data": {
      "image/png": "[encoded data removed]",
      "text/plain": [
       "<Figure size 500x500 with 1 Axes>"
      ]
     },
     "metadata": {
      "needs_background": "light"
     },
     "output_type": "display_data"
    }
   ],
   "source": [
    "get_hist(\"BMI\", 40)"
   ]
  },
  {
   "cell_type": "markdown",
   "id": "6d63820e-2a14-4720-9f0a-5e24b9913f23",
   "metadata": {},
   "source": [
    "Agora faremos o mesmo para a variável \"MentalHealth\""
   ]
  },
  {
   "cell_type": "code",
   "execution_count": 93,
   "id": "b03c2dd4-86c8-4d4e-87a1-2440ffd9f51c",
   "metadata": {},
   "outputs": [
    {
     "data": {
      "image/png": "[encoded data removed]",
      "text/plain": [
       "<Figure size 500x500 with 1 Axes>"
      ]
     },
     "metadata": {
      "needs_background": "light"
     },
     "output_type": "display_data"
    }
   ],
   "source": [
    "get_hist(\"MentalHealth\", 30)"
   ]
  },
  {
   "cell_type": "markdown",
   "id": "53bc890f-30a3-4644-b9f1-6c147aa15dcf",
   "metadata": {},
   "source": [
    "Agora, para as categorias de idade."
   ]
  },
  {
   "cell_type": "code",
   "execution_count": 94,
   "id": "15dae07e-1580-494b-a5b3-324bba7816a9",
   "metadata": {},
   "outputs": [
    {
     "data": {
      "image/png": "[encoded data removed]",
      "text/plain": [
       "<Figure size 500x500 with 1 Axes>"
      ]
     },
     "metadata": {
      "needs_background": "light"
     },
     "output_type": "display_data"
    }
   ],
   "source": [
    "get_hist(\"AgeCategory\", 13)\n"
   ]
  },
  {
   "cell_type": "markdown",
   "id": "cbd0f43d-7ece-48d3-ab8b-3f2d10bc9d62",
   "metadata": {},
   "source": [
    "## Correlação "
   ]
  },
  {
   "cell_type": "markdown",
   "id": "d1c629da-3356-4283-85be-eaf6b5a603b4",
   "metadata": {},
   "source": [
    "Faremos a análise das correlações das variáveis quantitativas"
   ]
  },
  {
   "cell_type": "code",
   "execution_count": 95,
   "id": "7707bbe1-8d8c-4499-a172-59f6f03750a3",
   "metadata": {},
   "outputs": [
    {
     "data": {
      "text/html": [
       "<div>\n",
       "<style scoped>\n",
       "    .dataframe tbody tr th:only-of-type {\n",
       "        vertical-align: middle;\n",
       "    }\n",
       "\n",
       "    .dataframe tbody tr th {\n",
       "        vertical-align: top;\n",
       "    }\n",
       "\n",
       "    .dataframe thead th {\n",
       "        text-align: right;\n",
       "    }\n",
       "</style>\n",
       "<table border=\"1\" class=\"dataframe\">\n",
       "  <thead>\n",
       "    <tr style=\"text-align: right;\">\n",
       "      <th></th>\n",
       "      <th>BMI</th>\n",
       "      <th>PhysicalHealth</th>\n",
       "      <th>MentalHealth</th>\n",
       "      <th>SleepTime</th>\n",
       "    </tr>\n",
       "  </thead>\n",
       "  <tbody>\n",
       "    <tr>\n",
       "      <th>BMI</th>\n",
       "      <td>1.000000</td>\n",
       "      <td>0.109788</td>\n",
       "      <td>0.064131</td>\n",
       "      <td>-0.051822</td>\n",
       "    </tr>\n",
       "    <tr>\n",
       "      <th>PhysicalHealth</th>\n",
       "      <td>0.109788</td>\n",
       "      <td>1.000000</td>\n",
       "      <td>0.287987</td>\n",
       "      <td>-0.061387</td>\n",
       "    </tr>\n",
       "    <tr>\n",
       "      <th>MentalHealth</th>\n",
       "      <td>0.064131</td>\n",
       "      <td>0.287987</td>\n",
       "      <td>1.000000</td>\n",
       "      <td>-0.119717</td>\n",
       "    </tr>\n",
       "    <tr>\n",
       "      <th>SleepTime</th>\n",
       "      <td>-0.051822</td>\n",
       "      <td>-0.061387</td>\n",
       "      <td>-0.119717</td>\n",
       "      <td>1.000000</td>\n",
       "    </tr>\n",
       "  </tbody>\n",
       "</table>\n",
       "</div>"
      ],
      "text/plain": [
       "                     BMI  PhysicalHealth  MentalHealth  SleepTime\n",
       "BMI             1.000000        0.109788      0.064131  -0.051822\n",
       "PhysicalHealth  0.109788        1.000000      0.287987  -0.061387\n",
       "MentalHealth    0.064131        0.287987      1.000000  -0.119717\n",
       "SleepTime      -0.051822       -0.061387     -0.119717   1.000000"
      ]
     },
     "execution_count": 95,
     "metadata": {},
     "output_type": "execute_result"
    }
   ],
   "source": [
    "df.corr()"
   ]
  },
  {
   "cell_type": "markdown",
   "id": "90486273-a0e4-46fc-90c7-2cae2317633d",
   "metadata": {},
   "source": [
    "Para facilitar a análise, faremos também \"heatmap\" com base nas correlações acima"
   ]
  },
  {
   "cell_type": "code",
   "execution_count": 97,
   "id": "d4a13c38-2d16-4296-a3ed-feb3c48cb45e",
   "metadata": {},
   "outputs": [
    {
     "data": {
      "text/plain": [
       "<AxesSubplot:>"
      ]
     },
     "execution_count": 97,
     "metadata": {},
     "output_type": "execute_result"
    },
    {
     "data": {
      "image/png": "[encoded data removed]",
      "text/plain": [
       "<Figure size 500x500 with 2 Axes>"
      ]
     },
     "metadata": {
      "needs_background": "light"
     },
     "output_type": "display_data"
    }
   ],
   "source": [
    "sns.heatmap(df.corr(), annot=True)"
   ]
  },
  {
   "cell_type": "markdown",
   "id": "818cb5c2-0a36-48c3-910e-d55272215df7",
   "metadata": {},
   "source": [
    "Incluindo outras variáveis mais interessantas com a base \"data_model\"."
   ]
  },
  {
   "cell_type": "code",
   "execution_count": 150,
   "id": "58b02d32-cad2-45d0-9b67-bf7f7d3a2bcf",
   "metadata": {},
   "outputs": [
    {
     "data": {
      "text/plain": [
       "<AxesSubplot:>"
      ]
     },
     "execution_count": 150,
     "metadata": {},
     "output_type": "execute_result"
    },
    {
     "data": {
      "image/png": "[encoded data removed]",
      "text/plain": [
       "<Figure size 500x500 with 2 Axes>"
      ]
     },
     "metadata": {
      "needs_background": "light"
     },
     "output_type": "display_data"
    }
   ],
   "source": [
    "sns.heatmap(data_model[[\"BMI\", \"PhysicalHealth\", \"MentalHealth\", \"SleepTime\", \"AlcoholDrinking\",\"HeartDisease\"]].corr(), annot=True)"
   ]
  },
  {
   "cell_type": "markdown",
   "id": "3f17f0c7-e675-42f4-a18c-8519bae82eab",
   "metadata": {},
   "source": [
    "# Modelagem"
   ]
  },
  {
   "cell_type": "markdown",
   "id": "cd1de07b-d13d-420c-bf41-bb70b482e626",
   "metadata": {},
   "source": [
    "Para a análise faremos dois modelos, um de Regressão logistica e outro Support vector machine, utilizando o método Gradiente Descendente Estocástico - SGD."
   ]
  },
  {
   "cell_type": "markdown",
   "id": "e464e216-c4bf-4046-aae4-c3e39e9b200b",
   "metadata": {},
   "source": [
    "Bibliotecas utilizadas:"
   ]
  },
  {
   "cell_type": "code",
   "execution_count": 141,
   "id": "b671f443-0ad7-47cf-92f8-f52732e01fe0",
   "metadata": {},
   "outputs": [],
   "source": [
    "import pandas as pd\n",
    "import numpy as np\n",
    "from sklearn.model_selection import train_test_split\n",
    "from sklearn import metrics\n",
    "from sklearn.linear_model import SGDClassifier\n",
    "import matplotlib.pyplot as plt"
   ]
  },
  {
   "cell_type": "code",
   "execution_count": 47,
   "id": "893b935b-8d3e-4553-b2cb-04b1f60126af",
   "metadata": {},
   "outputs": [],
   "source": [
    "Tratando os dados e criando dummies"
   ]
  },
  {
   "cell_type": "code",
   "execution_count": 142,
   "id": "1ef92f26-d11e-4ed5-991f-475cb26f00d3",
   "metadata": {},
   "outputs": [],
   "source": [
    "# criando dummies\n",
    "data_model = pd.DataFrame({\"HeartDisease\": np.where(df[\"HeartDisease\"] == \"Yes\", 1, 0),\n",
    "                           \"Smoking\": np.where(df[\"Smoking\"] == \"Yes\", 1, 0),\n",
    "                           \"AlcoholDrinking\": np.where(df[\"AlcoholDrinking\"] == \"Yes\", 1, 0),\n",
    "                           \"Stroke\": np.where(df[\"Stroke\"] == \"Yes\", 1, 0),\n",
    "                           \"DiffWalking\": np.where(df[\"DiffWalking\"] == \"Yes\", 1, 0),\n",
    "                           \"Sex\": np.where(df[\"Sex\"] == \"Yes\", 1, 0),\n",
    "                           \"PhysicalActivity\": np.where(df[\"PhysicalActivity\"] == \"Yes\", 1, 0),\n",
    "                           \"KidneyDisease\": np.where(df[\"KidneyDisease\"] == \"Yes\", 1, 0),\n",
    "                           \"SkinCancer\": np.where(df[\"SkinCancer\"] == \"Yes\", 1, 0),\n",
    "                           \"Asthma\": np.where(df[\"Asthma\"] == \"Yes\", 1, 0)})"
   ]
  },
  {
   "cell_type": "code",
   "execution_count": 143,
   "id": "982c29e0-155a-498d-a05f-bd7227004955",
   "metadata": {},
   "outputs": [],
   "source": [
    "# dummies numéricas\n",
    "data_model[\"BMI\"] = df[\"BMI\"]\n",
    "data_model[\"PhysicalHealth\"] = df[\"PhysicalHealth\"]\n",
    "data_model[\"MentalHealth\"] = df[\"MentalHealth\"]\n",
    "data_model[\"SleepTime\"] = df[\"SleepTime\"]"
   ]
  },
  {
   "cell_type": "code",
   "execution_count": 144,
   "id": "a76c3703-0977-4ec4-80ad-c644e96fe636",
   "metadata": {},
   "outputs": [],
   "source": [
    "# inclundo as variaveis para dummies com mais de 2 categorias\n",
    "data_model[\"AgeCategory\"] = df[\"AgeCategory\"]\n",
    "data_model[\"Race\"] = df[\"Race\"]\n",
    "data_model[\"Diabetic\"] = df[\"Diabetic\"]\n",
    "data_model[\"GenHealth\"] = df[\"GenHealth\"]\n",
    "\n",
    "#fazendo as ultimas dummies\n",
    "data_model = pd.get_dummies(data_model)"
   ]
  },
  {
   "cell_type": "markdown",
   "id": "625e5459-f20d-41df-984c-fbf9775e19dd",
   "metadata": {},
   "source": [
    "Determinando variaveis explicatiavas e variaveis dependentes."
   ]
  },
  {
   "cell_type": "code",
   "execution_count": 105,
   "id": "e9557ec5-616b-4f9e-a44e-7e6b517f6b45",
   "metadata": {},
   "outputs": [],
   "source": [
    "y = data_model.HeartDisease\n",
    "X = data_model.drop(\"HeartDisease\", axis=1)"
   ]
  },
  {
   "cell_type": "markdown",
   "id": "22fef509-92be-4910-aa31-52c7299650d8",
   "metadata": {},
   "source": [
    "Separando dados de teste e dados de treino com 30% e 70%, respectivamente."
   ]
  },
  {
   "cell_type": "code",
   "execution_count": 106,
   "id": "13e74927-6b1e-42d9-a958-5f3fc9a4e3bb",
   "metadata": {},
   "outputs": [],
   "source": [
    "X_train, X_test, y_train, y_test = train_test_split(X, y, test_size=0.3)"
   ]
  },
  {
   "cell_type": "markdown",
   "id": "1e49724e-9192-475c-a66d-321d799ea7e4",
   "metadata": {},
   "source": [
    "Criando o modelo SVM com GDS"
   ]
  },
  {
   "cell_type": "code",
   "execution_count": 107,
   "id": "ad3d1ca5-5bbd-44c8-bb51-3ff3b5ba32fd",
   "metadata": {},
   "outputs": [],
   "source": [
    "# SVM\n",
    "svm_clf = SGDClassifier(max_iter=1000, tol=1e-3, random_state=1, loss=\"huber\")"
   ]
  },
  {
   "cell_type": "markdown",
   "id": "5e0a3045-d8fd-4a60-84e8-7e06e507f499",
   "metadata": {},
   "source": [
    "Criando o modelo de Regressão Logistica com GDS"
   ]
  },
  {
   "cell_type": "code",
   "execution_count": 109,
   "id": "473b5398-002e-4284-9f80-b8496cea38df",
   "metadata": {},
   "outputs": [],
   "source": [
    "log_clf = SGDClassifier(max_iter=1000, tol=1e-3, random_state=1, loss=\"log_loss\")"
   ]
  },
  {
   "cell_type": "markdown",
   "id": "fb243259-f020-45a9-a81f-7cdbb2c77b6d",
   "metadata": {},
   "source": [
    "Ajustando os modelos:"
   ]
  },
  {
   "cell_type": "code",
   "execution_count": 110,
   "id": "cf5036e1-7c3f-46dc-9dca-1a8c1874d4f3",
   "metadata": {},
   "outputs": [
    {
     "data": {
      "text/html": [
       "<style>#sk-container-id-1 {color: black;background-color: white;}#sk-container-id-1 pre{padding: 0;}#sk-container-id-1 div.sk-toggleable {background-color: white;}#sk-container-id-1 label.sk-toggleable__label {cursor: pointer;display: block;width: 100%;margin-bottom: 0;padding: 0.3em;box-sizing: border-box;text-align: center;}#sk-container-id-1 label.sk-toggleable__label-arrow:before {content: \"▸\";float: left;margin-right: 0.25em;color: #696969;}#sk-container-id-1 label.sk-toggleable__label-arrow:hover:before {color: black;}#sk-container-id-1 div.sk-estimator:hover label.sk-toggleable__label-arrow:before {color: black;}#sk-container-id-1 div.sk-toggleable__content {max-height: 0;max-width: 0;overflow: hidden;text-align: left;background-color: #f0f8ff;}#sk-container-id-1 div.sk-toggleable__content pre {margin: 0.2em;color: black;border-radius: 0.25em;background-color: #f0f8ff;}#sk-container-id-1 input.sk-toggleable__control:checked~div.sk-toggleable__content {max-height: 200px;max-width: 100%;overflow: auto;}#sk-container-id-1 input.sk-toggleable__control:checked~label.sk-toggleable__label-arrow:before {content: \"▾\";}#sk-container-id-1 div.sk-estimator input.sk-toggleable__control:checked~label.sk-toggleable__label {background-color: #d4ebff;}#sk-container-id-1 div.sk-label input.sk-toggleable__control:checked~label.sk-toggleable__label {background-color: #d4ebff;}#sk-container-id-1 input.sk-hidden--visually {border: 0;clip: rect(1px 1px 1px 1px);clip: rect(1px, 1px, 1px, 1px);height: 1px;margin: -1px;overflow: hidden;padding: 0;position: absolute;width: 1px;}#sk-container-id-1 div.sk-estimator {font-family: monospace;background-color: #f0f8ff;border: 1px dotted black;border-radius: 0.25em;box-sizing: border-box;margin-bottom: 0.5em;}#sk-container-id-1 div.sk-estimator:hover {background-color: #d4ebff;}#sk-container-id-1 div.sk-parallel-item::after {content: \"\";width: 100%;border-bottom: 1px solid gray;flex-grow: 1;}#sk-container-id-1 div.sk-label:hover label.sk-toggleable__label {background-color: #d4ebff;}#sk-container-id-1 div.sk-serial::before {content: \"\";position: absolute;border-left: 1px solid gray;box-sizing: border-box;top: 0;bottom: 0;left: 50%;z-index: 0;}#sk-container-id-1 div.sk-serial {display: flex;flex-direction: column;align-items: center;background-color: white;padding-right: 0.2em;padding-left: 0.2em;position: relative;}#sk-container-id-1 div.sk-item {position: relative;z-index: 1;}#sk-container-id-1 div.sk-parallel {display: flex;align-items: stretch;justify-content: center;background-color: white;position: relative;}#sk-container-id-1 div.sk-item::before, #sk-container-id-1 div.sk-parallel-item::before {content: \"\";position: absolute;border-left: 1px solid gray;box-sizing: border-box;top: 0;bottom: 0;left: 50%;z-index: -1;}#sk-container-id-1 div.sk-parallel-item {display: flex;flex-direction: column;z-index: 1;position: relative;background-color: white;}#sk-container-id-1 div.sk-parallel-item:first-child::after {align-self: flex-end;width: 50%;}#sk-container-id-1 div.sk-parallel-item:last-child::after {align-self: flex-start;width: 50%;}#sk-container-id-1 div.sk-parallel-item:only-child::after {width: 0;}#sk-container-id-1 div.sk-dashed-wrapped {border: 1px dashed gray;margin: 0 0.4em 0.5em 0.4em;box-sizing: border-box;padding-bottom: 0.4em;background-color: white;}#sk-container-id-1 div.sk-label label {font-family: monospace;font-weight: bold;display: inline-block;line-height: 1.2em;}#sk-container-id-1 div.sk-label-container {text-align: center;}#sk-container-id-1 div.sk-container {/* jupyter's `normalize.less` sets `[hidden] { display: none; }` but bootstrap.min.css set `[hidden] { display: none !important; }` so we also need the `!important` here to be able to override the default hidden behavior on the sphinx rendered scikit-learn.org. See: https://github.com/scikit-learn/scikit-learn/issues/21755 */display: inline-block !important;position: relative;}#sk-container-id-1 div.sk-text-repr-fallback {display: none;}</style><div id=\"sk-container-id-1\" class=\"sk-top-container\"><div class=\"sk-text-repr-fallback\"><pre>SGDClassifier(loss=&#x27;log_loss&#x27;, random_state=1)</pre><b>In a Jupyter environment, please rerun this cell to show the HTML representation or trust the notebook. <br />On GitHub, the HTML representation is unable to render, please try loading this page with nbviewer.org.</b></div><div class=\"sk-container\" hidden><div class=\"sk-item\"><div class=\"sk-estimator sk-toggleable\"><input class=\"sk-toggleable__control sk-hidden--visually\" id=\"sk-estimator-id-1\" type=\"checkbox\" checked><label for=\"sk-estimator-id-1\" class=\"sk-toggleable__label sk-toggleable__label-arrow\">SGDClassifier</label><div class=\"sk-toggleable__content\"><pre>SGDClassifier(loss=&#x27;log_loss&#x27;, random_state=1)</pre></div></div></div></div></div>"
      ],
      "text/plain": [
       "SGDClassifier(loss='log_loss', random_state=1)"
      ]
     },
     "execution_count": 110,
     "metadata": {},
     "output_type": "execute_result"
    }
   ],
   "source": [
    "svm_clf.fit(X_train, y_train)\n",
    "log_clf.fit(X_train, y_train)"
   ]
  },
  {
   "cell_type": "markdown",
   "id": "ac50f1a1-458d-4a56-b98c-4af934526320",
   "metadata": {},
   "source": [
    "Acurácia SVM"
   ]
  },
  {
   "cell_type": "code",
   "execution_count": 121,
   "id": "fe1f68f2-48c9-41cf-8730-f4d67dfa0fa5",
   "metadata": {},
   "outputs": [
    {
     "name": "stdout",
     "output_type": "stream",
     "text": [
      "Accuracy: 0.9156755855283044\n"
     ]
    }
   ],
   "source": [
    "y_pred = log_clf.predict(X_test)\n",
    "print(\"Accuracy:\",metrics.accuracy_score(y_test, y_pred))"
   ]
  },
  {
   "cell_type": "markdown",
   "id": "7d5db241-e996-44ca-aa0d-66dc4bfb9d7f",
   "metadata": {},
   "source": [
    "Acurácia Regressão logistica:"
   ]
  },
  {
   "cell_type": "code",
   "execution_count": 123,
   "id": "c6acfa18-3233-4f8e-9dd2-3b684c12b205",
   "metadata": {},
   "outputs": [
    {
     "name": "stdout",
     "output_type": "stream",
     "text": [
      "Accuracy: 0.9148104524750101\n"
     ]
    }
   ],
   "source": [
    "y_pred = svm_clf.predict(X_test)\n",
    "print(\"Accuracy:\",metrics.accuracy_score(y_test, y_pred))"
   ]
  },
  {
   "cell_type": "code",
   "execution_count": null,
   "id": "1afbb0b8-dda2-4992-9c4b-a28ef732a1bf",
   "metadata": {},
   "outputs": [],
   "source": [
    "Curva ROC, GINI, AUROC:"
   ]
  },
  {
   "cell_type": "code",
   "execution_count": 111,
   "id": "dcd08773-22ba-42a7-9778-9374a4621589",
   "metadata": {},
   "outputs": [],
   "source": [
    "## Plotado os gráficos\n",
    "#para SVM\n",
    "y_pred_svm = svm_clf.decision_function(X_test)\n",
    "fpr_svm, tpr_svm, _ = metrics.roc_curve(y_test, y_pred_svm)\n",
    "auc_svm = round(metrics.roc_auc_score(y_test, y_pred_svm), 4)\n",
    "# para regressao logistica\n",
    "y_pred_log = log_clf.predict_proba(X_test)[:, 1]\n",
    "fpr_log, tpr_log, _ = metrics.roc_curve(y_test, y_pred_log)\n",
    "auc_log = round(metrics.roc_auc_score(y_test, y_pred_log), 4)"
   ]
  },
  {
   "cell_type": "code",
   "execution_count": 112,
   "id": "46c3d9db-5c08-4333-a8f8-d7fe41d423d9",
   "metadata": {},
   "outputs": [],
   "source": [
    "# Gini\n",
    "gini_svm = round(2*auc_svm - 1, 4)\n",
    "gini_log = round(2*auc_log - 1, 4)"
   ]
  },
  {
   "cell_type": "code",
   "execution_count": 113,
   "id": "be05fcd7-92c2-40e4-a69e-7824afa6ccec",
   "metadata": {},
   "outputs": [
    {
     "data": {
      "image/png": "[encoded data removed]",
      "text/plain": [
       "<Figure size 500x500 with 1 Axes>"
      ]
     },
     "metadata": {
      "needs_background": "light"
     },
     "output_type": "display_data"
    }
   ],
   "source": [
    "plt.plot(fpr_svm,tpr_svm,label=\"Support Vector Machine \\nAUROC=\"+str(auc_svm) + \"\\nGini=\" + str(gini_svm))\n",
    "plt.plot(fpr_log,tpr_log,label=\"Logistic Regression \\nAUROC=\"+str(auc_log) + \"\\nGini=\" + str(gini_log))\n",
    "plt.legend()\n",
    "plt.show()"
   ]
  },
  {
   "cell_type": "markdown",
   "id": "157bec70-2a05-476b-9ac2-c9fb1e1aae0d",
   "metadata": {},
   "source": [
    "Como podemos ver acima, o modelo de Regressão logistica superou o SVM já que possui maior GINI e menor número de falso positivo em comparação com positivo positivo."
   ]
  },
  {
   "cell_type": "markdown",
   "id": "6d54d3bd-3dfc-4268-831f-2f17ccdfb75f",
   "metadata": {},
   "source": [
    "## Variáveis"
   ]
  },
  {
   "cell_type": "code",
   "execution_count": 53,
   "id": "64755199-e9db-489a-a19c-174101094d2b",
   "metadata": {},
   "outputs": [],
   "source": [
    "Analisando as variáveis que influenciam no modelo positivamente e negativamente"
   ]
  },
  {
   "cell_type": "code",
   "execution_count": 115,
   "id": "3d3ff199-7778-4447-9d21-6aee2031d45f",
   "metadata": {},
   "outputs": [],
   "source": [
    "# Variaveis que influenciam\n",
    "\n",
    "coef_svm = pd.concat([pd.DataFrame(X_train.columns),pd.DataFrame(np.transpose(svm_clf.coef_))], axis = 1)\n",
    "coef_log = pd.concat([pd.DataFrame(X_train.columns),pd.DataFrame(np.transpose(log_clf.coef_))], axis = 1)\n",
    "\n",
    "coef_svm.columns = [\"Coef\", \"Values\"]\n",
    "coef_log.columns = [\"Coef\", \"Values\"]\n",
    "\n",
    "last3_svm = coef_svm.sort_values(by=\"Values\").head(3)\n",
    "last3_log = coef_log.sort_values(by=\"Values\").head(3)\n",
    "\n",
    "top3_svm = coef_svm.sort_values(by=\"Values\").tail(3)\n",
    "top3_log = coef_log.sort_values(by=\"Values\").tail(3)\n"
   ]
  },
  {
   "cell_type": "markdown",
   "id": "c0ef34e2-cd7d-432c-b140-3924da21d688",
   "metadata": {},
   "source": [
    "Influenciam positivamente:"
   ]
  },
  {
   "cell_type": "code",
   "execution_count": 116,
   "id": "f91ad2a1-94de-4a59-9138-5ab2d293839f",
   "metadata": {},
   "outputs": [
    {
     "name": "stdout",
     "output_type": "stream",
     "text": [
      "              Coef    Values\n",
      "6    KidneyDisease  0.028706\n",
      "2           Stroke  0.053801\n",
      "39  GenHealth_Poor  0.060496\n",
      "                       Coef    Values\n",
      "24        AgeCategory_75-79  1.350499\n",
      "39           GenHealth_Poor  1.354913\n",
      "25  AgeCategory_80 or older  1.549894\n"
     ]
    }
   ],
   "source": [
    "# infulenciam positivamente\n",
    "print(top3_svm)\n",
    "print(top3_log)"
   ]
  },
  {
   "cell_type": "markdown",
   "id": "a82fdbd9-4d5a-4634-a143-e9c3bd63596f",
   "metadata": {},
   "source": [
    "Influenciam negativamente:"
   ]
  },
  {
   "cell_type": "code",
   "execution_count": 117,
   "id": "80e33c0d-e1c4-41aa-be5c-287e9c86b92b",
   "metadata": {},
   "outputs": [
    {
     "name": "stdout",
     "output_type": "stream",
     "text": [
      "                   Coef    Values\n",
      "40  GenHealth_Very good -0.050426\n",
      "36  GenHealth_Excellent -0.046140\n",
      "38       GenHealth_Good -0.042517\n",
      "                 Coef    Values\n",
      "13  AgeCategory_18-24 -1.253647\n",
      "14  AgeCategory_25-29 -1.072900\n",
      "15  AgeCategory_30-34 -0.974303\n"
     ]
    }
   ],
   "source": [
    "# influenciam negativamente\n",
    "print(last3_svm)\n",
    "print(last3_log)"
   ]
  }
 ],
 "metadata": {
  "kernelspec": {
   "display_name": "Python 3 (ipykernel)",
   "language": "python",
   "name": "python3"
  },
  "language_info": {
   "codemirror_mode": {
    "name": "ipython",
    "version": 3
   },
   "file_extension": ".py",
   "mimetype": "text/x-python",
   "name": "python",
   "nbconvert_exporter": "python",
   "pygments_lexer": "ipython3",
   "version": "3.9.12"
  },
  "toc-autonumbering": true
 },
 "nbformat": 4,
 "nbformat_minor": 5
}
