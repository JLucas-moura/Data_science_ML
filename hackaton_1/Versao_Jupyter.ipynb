{
 "cells": [
  {
   "cell_type": "markdown",
   "id": "23e14c39-c78a-48b5-9992-4f846db1fd71",
   "metadata": {
    "tags": []
   },
   "source": [
    "# Análise dos dados de doenças do coração"
   ]
  },
  {
   "cell_type": "markdown",
   "id": "8976e6fc-7e01-408a-9c12-04c28eb8cf0d",
   "metadata": {},
   "source": [
    "## Tratamento dos dados"
   ]
  },
  {
   "cell_type": "markdown",
   "id": "84ab6900-24da-423f-a296-e2626af146d5",
   "metadata": {},
   "source": [
    "Para iniciar, usaremos as seguintes bibliotecas do Python:"
   ]
  },
  {
   "cell_type": "code",
   "execution_count": 7,
   "id": "730c53fb-df93-48bc-b74f-6a9bff68b816",
   "metadata": {},
   "outputs": [],
   "source": [
    "import pandas as pd\n",
    "import os\n",
    "import matplotlib.pyplot as plt\n",
    "import seaborn as sns"
   ]
  },
  {
   "cell_type": "markdown",
   "id": "1d4e339c-31da-4115-b0af-13f0e223afa0",
   "metadata": {},
   "source": [
    "Para a análise dos dados clinicos dos pacientes utilizaremos a base de dados disponibilizadas em aulas.\n",
    "\n",
    "Primeiramente, vamos ler os dados do nosso repositório:"
   ]
  },
  {
   "cell_type": "code",
   "execution_count": 10,
   "id": "3d5ae2c7-9d91-4315-a23e-2d232a31e0c2",
   "metadata": {},
   "outputs": [
    {
     "data": {
      "text/html": [
       "<div>\n",
       "<style scoped>\n",
       "    .dataframe tbody tr th:only-of-type {\n",
       "        vertical-align: middle;\n",
       "    }\n",
       "\n",
       "    .dataframe tbody tr th {\n",
       "        vertical-align: top;\n",
       "    }\n",
       "\n",
       "    .dataframe thead th {\n",
       "        text-align: right;\n",
       "    }\n",
       "</style>\n",
       "<table border=\"1\" class=\"dataframe\">\n",
       "  <thead>\n",
       "    <tr style=\"text-align: right;\">\n",
       "      <th></th>\n",
       "      <th>HeartDisease</th>\n",
       "      <th>BMI</th>\n",
       "      <th>Smoking</th>\n",
       "      <th>AlcoholDrinking</th>\n",
       "      <th>Stroke</th>\n",
       "      <th>PhysicalHealth</th>\n",
       "      <th>MentalHealth</th>\n",
       "      <th>DiffWalking</th>\n",
       "      <th>Sex</th>\n",
       "      <th>AgeCategory</th>\n",
       "      <th>Race</th>\n",
       "      <th>Diabetic</th>\n",
       "      <th>PhysicalActivity</th>\n",
       "      <th>GenHealth</th>\n",
       "      <th>SleepTime</th>\n",
       "      <th>Asthma</th>\n",
       "      <th>KidneyDisease</th>\n",
       "      <th>SkinCancer</th>\n",
       "    </tr>\n",
       "  </thead>\n",
       "  <tbody>\n",
       "    <tr>\n",
       "      <th>0</th>\n",
       "      <td>No</td>\n",
       "      <td>16.60</td>\n",
       "      <td>Yes</td>\n",
       "      <td>No</td>\n",
       "      <td>No</td>\n",
       "      <td>3</td>\n",
       "      <td>30</td>\n",
       "      <td>No</td>\n",
       "      <td>Female</td>\n",
       "      <td>55-59</td>\n",
       "      <td>White</td>\n",
       "      <td>Yes</td>\n",
       "      <td>Yes</td>\n",
       "      <td>Very good</td>\n",
       "      <td>5</td>\n",
       "      <td>Yes</td>\n",
       "      <td>No</td>\n",
       "      <td>Yes</td>\n",
       "    </tr>\n",
       "    <tr>\n",
       "      <th>1</th>\n",
       "      <td>No</td>\n",
       "      <td>20.34</td>\n",
       "      <td>No</td>\n",
       "      <td>No</td>\n",
       "      <td>Yes</td>\n",
       "      <td>0</td>\n",
       "      <td>0</td>\n",
       "      <td>No</td>\n",
       "      <td>Female</td>\n",
       "      <td>80 or older</td>\n",
       "      <td>White</td>\n",
       "      <td>No</td>\n",
       "      <td>Yes</td>\n",
       "      <td>Very good</td>\n",
       "      <td>7</td>\n",
       "      <td>No</td>\n",
       "      <td>No</td>\n",
       "      <td>No</td>\n",
       "    </tr>\n",
       "    <tr>\n",
       "      <th>2</th>\n",
       "      <td>No</td>\n",
       "      <td>26.58</td>\n",
       "      <td>Yes</td>\n",
       "      <td>No</td>\n",
       "      <td>No</td>\n",
       "      <td>20</td>\n",
       "      <td>30</td>\n",
       "      <td>No</td>\n",
       "      <td>Male</td>\n",
       "      <td>65-69</td>\n",
       "      <td>White</td>\n",
       "      <td>Yes</td>\n",
       "      <td>Yes</td>\n",
       "      <td>Fair</td>\n",
       "      <td>8</td>\n",
       "      <td>Yes</td>\n",
       "      <td>No</td>\n",
       "      <td>No</td>\n",
       "    </tr>\n",
       "    <tr>\n",
       "      <th>3</th>\n",
       "      <td>No</td>\n",
       "      <td>24.21</td>\n",
       "      <td>No</td>\n",
       "      <td>No</td>\n",
       "      <td>No</td>\n",
       "      <td>0</td>\n",
       "      <td>0</td>\n",
       "      <td>No</td>\n",
       "      <td>Female</td>\n",
       "      <td>75-79</td>\n",
       "      <td>White</td>\n",
       "      <td>No</td>\n",
       "      <td>No</td>\n",
       "      <td>Good</td>\n",
       "      <td>6</td>\n",
       "      <td>No</td>\n",
       "      <td>No</td>\n",
       "      <td>Yes</td>\n",
       "    </tr>\n",
       "    <tr>\n",
       "      <th>4</th>\n",
       "      <td>No</td>\n",
       "      <td>23.71</td>\n",
       "      <td>No</td>\n",
       "      <td>No</td>\n",
       "      <td>No</td>\n",
       "      <td>28</td>\n",
       "      <td>0</td>\n",
       "      <td>Yes</td>\n",
       "      <td>Female</td>\n",
       "      <td>40-44</td>\n",
       "      <td>White</td>\n",
       "      <td>No</td>\n",
       "      <td>Yes</td>\n",
       "      <td>Very good</td>\n",
       "      <td>8</td>\n",
       "      <td>No</td>\n",
       "      <td>No</td>\n",
       "      <td>No</td>\n",
       "    </tr>\n",
       "  </tbody>\n",
       "</table>\n",
       "</div>"
      ],
      "text/plain": [
       "  HeartDisease    BMI Smoking AlcoholDrinking Stroke  PhysicalHealth  \\\n",
       "0           No  16.60     Yes              No     No               3   \n",
       "1           No  20.34      No              No    Yes               0   \n",
       "2           No  26.58     Yes              No     No              20   \n",
       "3           No  24.21      No              No     No               0   \n",
       "4           No  23.71      No              No     No              28   \n",
       "\n",
       "   MentalHealth DiffWalking     Sex  AgeCategory   Race Diabetic  \\\n",
       "0            30          No  Female        55-59  White      Yes   \n",
       "1             0          No  Female  80 or older  White       No   \n",
       "2            30          No    Male        65-69  White      Yes   \n",
       "3             0          No  Female        75-79  White       No   \n",
       "4             0         Yes  Female        40-44  White       No   \n",
       "\n",
       "  PhysicalActivity  GenHealth  SleepTime Asthma KidneyDisease SkinCancer  \n",
       "0              Yes  Very good          5    Yes            No        Yes  \n",
       "1              Yes  Very good          7     No            No         No  \n",
       "2              Yes       Fair          8    Yes            No         No  \n",
       "3               No       Good          6     No            No        Yes  \n",
       "4              Yes  Very good          8     No            No         No  "
      ]
     },
     "execution_count": 10,
     "metadata": {},
     "output_type": "execute_result"
    }
   ],
   "source": [
    "df = pd.read_excel('heart_disease.xlsx', 'data')\n",
    "\n",
    "df.head(5)"
   ]
  },
  {
   "cell_type": "markdown",
   "id": "9f85edd6-79c9-44e2-9a14-567b801637c1",
   "metadata": {},
   "source": [
    "Como podemos ver, temos algumas características relacionadas a cada paciente. Através desses dados tentaremos traçar algumas variáveis explicativas para doença no coração."
   ]
  },
  {
   "cell_type": "markdown",
   "id": "373e36f4-c13d-474a-a7c7-23b961de7503",
   "metadata": {},
   "source": [
    "## Estatistica descritiva básica"
   ]
  },
  {
   "cell_type": "markdown",
   "id": "235dfed2-8668-4607-8a75-7cf42e49527f",
   "metadata": {},
   "source": [
    "Como olharemos apenas os dados dos clientes pessoa física, vamos filtrar o DataFrame."
   ]
  },
  {
   "cell_type": "code",
   "execution_count": 34,
   "id": "86d794c5-a044-4933-8121-bfdf1cd8301c",
   "metadata": {},
   "outputs": [],
   "source": [
    "df_pf = df[df['cliente'] == 'PF' ]"
   ]
  },
  {
   "cell_type": "markdown",
   "id": "8210fe18-338e-4268-88ad-50d34f070449",
   "metadata": {},
   "source": [
    "Selecionaremos apenas as colunas que vamos utilizar na confecção dos gráficos e ordenaremos as colunas nos seguintes moldes:"
   ]
  },
  {
   "cell_type": "code",
   "execution_count": 35,
   "id": "79c25aa7-0a6a-4db0-a840-a1e764ea117e",
   "metadata": {},
   "outputs": [],
   "source": [
    "df_pf = df_pf[[ 'data_base', 'uf',\n",
    "               'ocupacao','porte',\n",
    "               'modalidade','carteira_ativa',\n",
    "               'vencido_acima_de_15_dias']]"
   ]
  },
  {
   "cell_type": "markdown",
   "id": "b45a3891-0df8-47ce-83db-12a6d5bd38b3",
   "metadata": {},
   "source": [
    "Como faremos uma análise global, não nos interessa especificar cada operação de crédito. Por conta disso, agruparemos os dados através da função groupby() para somar as variáveis quantitativas com as mesmas características de classificação."
   ]
  },
  {
   "cell_type": "code",
   "execution_count": 36,
   "id": "27f6c76f-6a72-4783-8fc0-8803d0e79fb1",
   "metadata": {},
   "outputs": [],
   "source": [
    "df_pf_1 = df_pf.groupby(['data_base', 'uf', 'ocupacao', 'porte', 'modalidade'], as_index=False)[['carteira_ativa', 'vencido_acima_de_15_dias']].apply(sum)"
   ]
  },
  {
   "cell_type": "markdown",
   "id": "4521161b-2e95-47f0-b572-0f5f56bd3b54",
   "metadata": {},
   "source": [
    "Para complementar os dados, faremos o cálculo da taxa de inadimplência, através da divisão da quantidade de crédito vencido mais de 15 dias pela carteira de crédito ativa."
   ]
  },
  {
   "cell_type": "code",
   "execution_count": 37,
   "id": "d8dde056-eb2a-41e1-92cd-d8206897b306",
   "metadata": {},
   "outputs": [],
   "source": [
    "df_pf_1['inad_perc'] = df_pf_1['vencido_acima_de_15_dias']/df_pf_1['carteira_ativa']"
   ]
  },
  {
   "cell_type": "markdown",
   "id": "cba7d036-b158-433d-879c-38a4d6a08abf",
   "metadata": {},
   "source": [
    "Por fim, faremos o download das DataFrames para o nosso diretório."
   ]
  },
  {
   "cell_type": "code",
   "execution_count": 38,
   "id": "daa86f57-9499-46cd-a067-19a2d98baa1b",
   "metadata": {},
   "outputs": [],
   "source": [
    "df.to_csv ('df.csv', index = False)\n",
    "\n",
    "df_pf_1.to_csv ('df_pf_1.csv', index = False)\n"
   ]
  },
  {
   "cell_type": "markdown",
   "id": "5f8f809f-879b-4e09-9e50-f8eaa780ea68",
   "metadata": {},
   "source": [
    "## Estatística descritiva básica"
   ]
  },
  {
   "cell_type": "markdown",
   "id": "048ef237-fca4-477a-bb87-9b243f4c5612",
   "metadata": {},
   "source": [
    "Nessa seção faremos uma breve análise gráfica dos dados disponibilizados pelo banco central.\n",
    "\n",
    "Buscando responder quais os estados do país com maior carteira de crédito, vamos elaborar um gráfico de barra utilizando a variável \"carteira_ativa\"."
   ]
  },
  {
   "cell_type": "markdown",
   "id": "3288c069-db54-4469-8874-85e267165f8b",
   "metadata": {},
   "source": [
    "Primeiramente faremos uma breve manipulação dos dados:"
   ]
  },
  {
   "cell_type": "code",
   "execution_count": 41,
   "id": "27a7737a-fbe5-44a0-aed3-2eac779ca931",
   "metadata": {},
   "outputs": [],
   "source": [
    "data_plot_df_1 = df_pf_1.groupby(['data_base', 'uf'], as_index = False)[['vencido_acima_de_15_dias',\n",
    "                                                           'carteira_ativa']].apply(sum).sort_values(by=['carteira_ativa'])\n",
    "\n",
    "data_plot_df_1 = data_plot_df_1.pivot(index='uf',\n",
    "                                      columns='data_base',\n",
    "                                      values= 'carteira_ativa').reset_index().sort_values(by=['2022-07-31'])"
   ]
  },
  {
   "cell_type": "markdown",
   "id": "db8b11b8-39a5-45a9-9f42-951d8b94d2a9",
   "metadata": {},
   "source": [
    "Elaboração do gráfico das maiores carteiras de crédito por estado do Brasil:"
   ]
  },
  {
   "cell_type": "code",
   "execution_count": 42,
   "id": "5c7ae3c9-26cc-4e48-96a5-d8f72e892b80",
   "metadata": {},
   "outputs": [
    {
     "data": {
      "image/png": "[encoded data removed]",
      "text/plain": [
       "<Figure size 720x360 with 1 Axes>"
      ]
     },
     "metadata": {
      "needs_background": "light"
     },
     "output_type": "display_data"
    }
   ],
   "source": [
    "x = list(data_plot_df_1['uf'])\n",
    "x_axis = np.arange(len(x))\n",
    "f = plt.figure()\n",
    "f.set_figwidth(10)\n",
    "f.set_figheight(5)\n",
    "plt.bar(x_axis - 0.2,\n",
    "        data_plot_df_1['2022-07-31'],\n",
    "        color ='maroon',\n",
    "        width = 0.50,\n",
    "        label = \"Julho\")\n",
    "plt.bar(x_axis + 0.2,\n",
    "        data_plot_df_1['2022-08-31'],\n",
    "        color ='blue',\n",
    "        width = 0.50,\n",
    "        label = \"Agosto\")\n",
    "plt.xticks(x_axis, x)\n",
    "plt.xlabel('Estados do País (UF)')\n",
    "plt.ylabel('Carteira de Crédito Ativa')\n",
    "plt.title('Carteira ativa de crédito por estado')\n",
    "plt.legend()\n",
    "plt.show()"
   ]
  },
  {
   "cell_type": "markdown",
   "id": "6d63820e-2a14-4720-9f0a-5e24b9913f23",
   "metadata": {},
   "source": [
    "Podemos ver uma concentração do crédito nos estados mais ricos do país, mas com maior volume em São Paulo.\n",
    "\n",
    "De um julho a agosto é possível perceber um pequeno aumento do crédito, mas sem nenhuma grande mudança."
   ]
  },
  {
   "cell_type": "markdown",
   "id": "53bc890f-30a3-4644-b9f1-6c147aa15dcf",
   "metadata": {},
   "source": [
    "Agora elaboraremos o gráfico com a taxa de inadimplência  nos estados."
   ]
  },
  {
   "cell_type": "code",
   "execution_count": 43,
   "id": "15dae07e-1580-494b-a5b3-324bba7816a9",
   "metadata": {},
   "outputs": [],
   "source": [
    "data_plot_df_2 = df_pf_1.groupby(['data_base', 'uf'], as_index = False)[['vencido_acima_de_15_dias',\n",
    "                                                           'carteira_ativa']].sum()\n",
    "\n",
    "data_plot_df_2['inad_perc'] = data_plot_df_2['vencido_acima_de_15_dias']/data_plot_df_2['carteira_ativa']\n",
    "\n",
    "data_plot_df_2 = data_plot_df_2.pivot(index='uf',\n",
    "                                      columns='data_base',\n",
    "                                      values= 'inad_perc').reset_index().sort_values(by=['2022-07-31'])\n"
   ]
  },
  {
   "cell_type": "code",
   "execution_count": 44,
   "id": "ff520f69-74f1-4fec-aa5d-25a625f26166",
   "metadata": {},
   "outputs": [
    {
     "data": {
      "image/png": "[encoded data removed]",
      "text/plain": [
       "<Figure size 720x360 with 1 Axes>"
      ]
     },
     "metadata": {
      "needs_background": "light"
     },
     "output_type": "display_data"
    }
   ],
   "source": [
    "x = list(data_plot_df_2['uf'])\n",
    "x_axis = np.arange(len(x))\n",
    "f = plt.figure()\n",
    "f.set_figwidth(10)\n",
    "f.set_figheight(5)\n",
    "plt.bar(x_axis - 0.2,\n",
    "        data_plot_df_2['2022-07-31'],\n",
    "        color ='maroon',\n",
    "        width = 0.50,\n",
    "        label = 'Julho')\n",
    "plt.bar(x_axis + 0.2,\n",
    "        data_plot_df_2['2022-08-31'],\n",
    "        color ='blue',\n",
    "        width = 0.50,\n",
    "        label = 'Agosto')\n",
    "plt.xticks(x_axis, x)\n",
    "plt.xlabel('Estados do País (UF)')\n",
    "plt.ylabel('Taxa de inadimplencia')\n",
    "plt.title('Taxa de inadimplencia por estado mês de julho e agosto')\n",
    "plt.legend()\n",
    "plt.show()"
   ]
  },
  {
   "cell_type": "markdown",
   "id": "dc6dbdef-e735-4d71-966b-8e69f411e9bd",
   "metadata": {},
   "source": [
    "O gráfico acima é interessante que inverte a ordem dos estados. Agora, estados com renda per capita menores tomam a dianteira no quesito taxa de inadimplência.\n",
    "\n",
    "O destaque negativo é o rio de janeiro, pois possui uma das maiores carteiras de crédito do pais e altos indicies de inadimplência."
   ]
  },
  {
   "cell_type": "markdown",
   "id": "72ef9962-c696-4508-9c47-9932ea36f78e",
   "metadata": {},
   "source": [
    "O próximo gráfico mostrará o tamanho da carteira de crédito por ocupação."
   ]
  },
  {
   "cell_type": "code",
   "execution_count": 45,
   "id": "adfdbe95-b759-4e27-b726-947cf6479317",
   "metadata": {},
   "outputs": [],
   "source": [
    "\n",
    "data_plot_df_3 = df_pf_1.groupby(['data_base', 'ocupacao'], as_index = False)[['vencido_acima_de_15_dias',\n",
    "                                                           'carteira_ativa']].sum()\n",
    "\n",
    "data_plot_df_3 = data_plot_df_3.pivot(index='ocupacao',\n",
    "                                      columns='data_base',\n",
    "                                      values= 'carteira_ativa').sort_values(by=['2022-07-31']).reset_index()\n"
   ]
  },
  {
   "cell_type": "code",
   "execution_count": 46,
   "id": "69410043-818d-4496-aa7d-8d0ae91ad06a",
   "metadata": {},
   "outputs": [
    {
     "data": {
      "image/png": "[encoded data removed]",
      "text/plain": [
       "<Figure size 432x288 with 1 Axes>"
      ]
     },
     "metadata": {
      "needs_background": "light"
     },
     "output_type": "display_data"
    }
   ],
   "source": [
    "x = list(data_plot_df_3['ocupacao'])\n",
    "x_axis = np.arange(len(x))\n",
    "width = 0.4\n",
    "fig, ax = plt.subplots()\n",
    "ax.barh(x_axis, data_plot_df_3['2022-07-31'], width, color='maroon', label='Julho')\n",
    "ax.barh(x_axis + width, data_plot_df_3['2022-08-31'], width, color='blue', label='Agosto')\n",
    "ax.set(yticks = x_axis + width,\n",
    "       yticklabels = data_plot_df_3['ocupacao'],\n",
    "       ylim = [2*width - 1, len(x)])\n",
    "plt.xlabel('Carteira Ativa')\n",
    "plt.ylabel('Ocupação')\n",
    "plt.title('Carteira ativa de crédito por ocupação mês de julho e agosto')\n",
    "ax.legend()\n",
    "plt.show()"
   ]
  },
  {
   "cell_type": "markdown",
   "id": "e464e216-c4bf-4046-aae4-c3e39e9b200b",
   "metadata": {},
   "source": [
    "Como podemos ver, existe um alto nível de crédito cedido servidores públicos, privados, empresários e outras profissões não identificadas.\n",
    "\n",
    "Como já vimos nos outros dois gráficos acima, de julho para agosto ocorreu um leve aumento do crédito de modo geral."
   ]
  },
  {
   "cell_type": "markdown",
   "id": "dfae1897-c1b6-4060-ace9-632f01523dc2",
   "metadata": {},
   "source": [
    "Ainda sobre a ocupação, elaboramos a taxa de inadimplência."
   ]
  },
  {
   "cell_type": "code",
   "execution_count": 47,
   "id": "893b935b-8d3e-4553-b2cb-04b1f60126af",
   "metadata": {},
   "outputs": [],
   "source": [
    "data_plot_df_4 = df_pf_1.groupby(['data_base', 'ocupacao'], as_index = False)[['vencido_acima_de_15_dias',\n",
    "                                                           'carteira_ativa']].sum()\n",
    "\n",
    "data_plot_df_4['inad_perc'] = data_plot_df_4['vencido_acima_de_15_dias']/data_plot_df_4['carteira_ativa']\n",
    "\n",
    "data_plot_df_4 = data_plot_df_4.pivot(index='ocupacao',\n",
    "                                      columns='data_base',\n",
    "                                      values= 'inad_perc').reset_index().sort_values(by=['2022-07-31'])\n"
   ]
  },
  {
   "cell_type": "code",
   "execution_count": 48,
   "id": "1ef92f26-d11e-4ed5-991f-475cb26f00d3",
   "metadata": {},
   "outputs": [
    {
     "data": {
      "image/png": "[encoded data removed]",
      "text/plain": [
       "<Figure size 432x288 with 1 Axes>"
      ]
     },
     "metadata": {
      "needs_background": "light"
     },
     "output_type": "display_data"
    }
   ],
   "source": [
    "x = list(data_plot_df_4['ocupacao'])\n",
    "x_axis = np.arange(len(x))\n",
    "width = 0.4\n",
    "fig, ax = plt.subplots()\n",
    "ax.barh(x_axis, data_plot_df_4['2022-07-31'], width, color='maroon', label='Julho')\n",
    "ax.barh(x_axis + width, data_plot_df_4['2022-08-31'], width, color='blue', label='Agosto')\n",
    "ax.set(yticks = x_axis + width,\n",
    "       yticklabels = data_plot_df_4['ocupacao'],\n",
    "       ylim = [2*width - 1, len(x)])\n",
    "plt.xlabel('Taxa de inadimplência')\n",
    "plt.ylabel('Ocupação')\n",
    "plt.title('Taxa de inadimplência por ocupação no mês de julho e agosto')\n",
    "ax.legend()\n",
    "plt.show()"
   ]
  },
  {
   "cell_type": "markdown",
   "id": "625e5459-f20d-41df-984c-fbf9775e19dd",
   "metadata": {},
   "source": [
    "O interessante é o altíssimo índice de inadimplência entre os Micro Empreendedores Individuais - MEI - e dos trabalhadores de fundações e ONGS. Consequentemente, a parcela de crédito para esse nicho de mercado não representa parte muito grande do mercado."
   ]
  },
  {
   "cell_type": "markdown",
   "id": "22fef509-92be-4910-aa31-52c7299650d8",
   "metadata": {},
   "source": [
    "A alta inadimplência entre trabalhadores com ocupação \"outros\", é mais preocupante, pois é a maior carteira de crédito do mercado."
   ]
  },
  {
   "cell_type": "markdown",
   "id": "ff61ee23-52da-40a7-b450-e98690f6c013",
   "metadata": {},
   "source": [
    "O próximo gráfico tem relação com a renda dos clientes. A variável 'porte', sem dúvida nenhuma, é a mais importante para a análise de crédito.\n",
    "\n",
    "Primeiramente veremos o tamanho das carteiras de crédito ativas em relação a renda.\n"
   ]
  },
  {
   "cell_type": "code",
   "execution_count": 49,
   "id": "6e373485-6051-4b10-b906-cc145a6664e5",
   "metadata": {},
   "outputs": [],
   "source": [
    "data_plot_df_5 = df_pf_1.groupby(['data_base', 'porte'], as_index = False)[['vencido_acima_de_15_dias',\n",
    "                                                           'carteira_ativa']].sum()\n",
    "\n",
    "data_plot_df_5 = data_plot_df_5.pivot(index='porte',\n",
    "                                      columns='data_base',\n",
    "                                      values= 'carteira_ativa').sort_values(by=['2022-07-31']).reset_index()"
   ]
  },
  {
   "cell_type": "code",
   "execution_count": 50,
   "id": "473b5398-002e-4284-9f80-b8496cea38df",
   "metadata": {},
   "outputs": [
    {
     "data": {
      "image/png": "[encoded data removed]",
      "text/plain": [
       "<Figure size 432x288 with 1 Axes>"
      ]
     },
     "metadata": {
      "needs_background": "light"
     },
     "output_type": "display_data"
    }
   ],
   "source": [
    "x = list(data_plot_df_5['porte'])\n",
    "x_axis = np.arange(len(x))\n",
    "width = 0.4\n",
    "fig, ax = plt.subplots()\n",
    "ax.barh(x_axis, data_plot_df_5['2022-07-31'], width, color='maroon', label='Julho')\n",
    "ax.barh(x_axis + width, data_plot_df_5['2022-08-31'], width, color='blue', label='Agosto')\n",
    "ax.set(yticks = x_axis + width,\n",
    "       yticklabels = data_plot_df_5['porte'],\n",
    "       ylim = [2*width - 1, len(x)])\n",
    "plt.xlabel('Carteira de crédito ativa')\n",
    "plt.ylabel('Porte')\n",
    "plt.title('Carteira de crédito ativa por renda no mês de julho')\n",
    "ax.legend()\n",
    "plt.show()"
   ]
  },
  {
   "cell_type": "markdown",
   "id": "fb243259-f020-45a9-a81f-7cdbb2c77b6d",
   "metadata": {},
   "source": [
    "O que vemos através do gráfico acima é uma forte relação entre renda e tamanho da carteira ativa no mercado. Uma exceção interessante são os cliente entre 10 e 20 salários mínimos que tem menos participação no mercado de crédito que outros cliente de nível de salários menor."
   ]
  },
  {
   "cell_type": "markdown",
   "id": "3475bc54-586c-4a15-bede-c9e66de85590",
   "metadata": {},
   "source": [
    "Já a taxa de inadimplência por nível de renda inverte a ordem do gráfico, já que os menos afortunados terão menor capacidade de honrarem suas certeiras de crédito. Correndo então maior risco de inadimplência"
   ]
  },
  {
   "cell_type": "code",
   "execution_count": 51,
   "id": "dcd08773-22ba-42a7-9778-9374a4621589",
   "metadata": {},
   "outputs": [],
   "source": [
    "data_plot_df_6 = df_pf_1.groupby(['data_base', 'porte'], as_index = False)[['vencido_acima_de_15_dias',\n",
    "                                                           'carteira_ativa']].sum()\n",
    "\n",
    "data_plot_df_6['inad_perc'] = data_plot_df_6['vencido_acima_de_15_dias']/data_plot_df_6['carteira_ativa']\n",
    "\n",
    "data_plot_df_6 = data_plot_df_6.pivot(index='porte',\n",
    "                                      columns='data_base',\n",
    "                                      values= 'inad_perc').sort_values(by=['2022-07-31']).reset_index()\n"
   ]
  },
  {
   "cell_type": "code",
   "execution_count": 52,
   "id": "46c3d9db-5c08-4333-a8f8-d7fe41d423d9",
   "metadata": {},
   "outputs": [
    {
     "data": {
      "image/png": "[encoded data removed]",
      "text/plain": [
       "<Figure size 432x288 with 1 Axes>"
      ]
     },
     "metadata": {
      "needs_background": "light"
     },
     "output_type": "display_data"
    }
   ],
   "source": [
    "x = list(data_plot_df_6['porte'])\n",
    "x_axis = np.arange(len(x))\n",
    "width = 0.4\n",
    "fig, ax = plt.subplots()\n",
    "ax.barh(x_axis, data_plot_df_6['2022-07-31'], width, color='maroon', label='Julho')\n",
    "ax.barh(x_axis + width, data_plot_df_6['2022-08-31'], width, color='blue', label='Agosto')\n",
    "ax.set(yticks = x_axis + width,\n",
    "       yticklabels = data_plot_df_6['porte'],\n",
    "       ylim = [2*width - 1, len(x)])\n",
    "plt.xlabel('Carteira de crédito ativa')\n",
    "plt.ylabel('Porte')\n",
    "plt.title('Carteira de crédito ativa por renda no mês de julho')\n",
    "ax.legend()\n",
    "plt.show()"
   ]
  },
  {
   "cell_type": "markdown",
   "id": "157bec70-2a05-476b-9ac2-c9fb1e1aae0d",
   "metadata": {},
   "source": [
    "Como já esperado, a taxa de inadimplência é maior entre os menores níveis de renda e muito maior entre os indivíduos que não possuem ou não declararam renda."
   ]
  },
  {
   "cell_type": "markdown",
   "id": "6d54d3bd-3dfc-4268-831f-2f17ccdfb75f",
   "metadata": {},
   "source": [
    "Por fim, analisaremos a modalidade do crédito, ou seja, tipo de produto vendido ao cliente. Podendo ser cartão de crédito, crédito imobiliário, financiamento veicular, entre outros."
   ]
  },
  {
   "cell_type": "code",
   "execution_count": 53,
   "id": "64755199-e9db-489a-a19c-174101094d2b",
   "metadata": {},
   "outputs": [],
   "source": [
    "data_plot_df_7 = df_pf_1.groupby(['data_base', 'modalidade'], as_index = False)[['vencido_acima_de_15_dias',\n",
    "                                                           'carteira_ativa']].sum()\n",
    "\n",
    "data_plot_df_7 = data_plot_df_7.pivot(index='modalidade',\n",
    "                                      columns='data_base',\n",
    "                                      values= 'carteira_ativa').sort_values(by=['2022-07-31']).reset_index()"
   ]
  },
  {
   "cell_type": "code",
   "execution_count": 54,
   "id": "3d3ff199-7778-4447-9d21-6aee2031d45f",
   "metadata": {},
   "outputs": [
    {
     "data": {
      "image/png": "[encoded data removed]",
      "text/plain": [
       "<Figure size 432x288 with 1 Axes>"
      ]
     },
     "metadata": {
      "needs_background": "light"
     },
     "output_type": "display_data"
    }
   ],
   "source": [
    "x = list(data_plot_df_7['modalidade'])\n",
    "x_axis = np.arange(len(x))\n",
    "width = 0.4\n",
    "fig, ax = plt.subplots()\n",
    "ax.barh(x_axis, data_plot_df_7['2022-07-31'], width, color='maroon', label='Julho')\n",
    "ax.barh(x_axis + width, data_plot_df_7['2022-08-31'], width, color='blue', label='Agosto')\n",
    "ax.set(yticks = x_axis + width,\n",
    "       yticklabels = data_plot_df_7['modalidade'],\n",
    "       ylim = [2*width - 1, len(x)])\n",
    "plt.xlabel('Carteira de crédito ativa')\n",
    "plt.ylabel('Modalidade')\n",
    "plt.title('Carteira de crédito ativa por modalidade no mês de julho e agosto')\n",
    "ax.legend()\n",
    "plt.show()"
   ]
  },
  {
   "cell_type": "markdown",
   "id": "c0ef34e2-cd7d-432c-b140-3924da21d688",
   "metadata": {},
   "source": [
    "Obviamente, o maior volume de empréstimos está relacionado a compra de imóveis. O tamanho da carteira de crédito habitacional tem a ver com os altos valores necessário para compra de imóveis de modo geral.\n",
    "\n",
    "Empréstimos consignados tem um bom nível de garantia, já que possuem convenio para ser debitados em folha, e também possui uma grande fatia do mercado de crédito."
   ]
  },
  {
   "cell_type": "markdown",
   "id": "d3516ea6-06ff-4bb3-8082-2e8ab929164a",
   "metadata": {},
   "source": [
    "Agora veremos as taxas de inadimplência entre as diversas modalidades de produtos comercializados."
   ]
  },
  {
   "cell_type": "code",
   "execution_count": 55,
   "id": "970fa85a-1a02-4856-8cdd-84b3f5798ce0",
   "metadata": {},
   "outputs": [],
   "source": [
    "data_plot_df_8 = df_pf_1.groupby(['data_base', 'modalidade'], as_index = False)[['vencido_acima_de_15_dias',\n",
    "                                                           'carteira_ativa']].sum()\n",
    "\n",
    "data_plot_df_8['inad_perc'] = data_plot_df_8['vencido_acima_de_15_dias']/data_plot_df_8['carteira_ativa']\n",
    "\n",
    "data_plot_df_8 = data_plot_df_8.pivot(index='modalidade',\n",
    "                                      columns='data_base',\n",
    "                                      values= 'inad_perc').sort_values(by=['2022-07-31']).reset_index()"
   ]
  },
  {
   "cell_type": "code",
   "execution_count": 56,
   "id": "9e7eea4c-ae7a-4ce2-97d2-2b5d674155c0",
   "metadata": {},
   "outputs": [
    {
     "data": {
      "image/png": "[encoded data removed]",
      "text/plain": [
       "<Figure size 432x288 with 1 Axes>"
      ]
     },
     "metadata": {
      "needs_background": "light"
     },
     "output_type": "display_data"
    }
   ],
   "source": [
    "x = list(data_plot_df_8['modalidade'])\n",
    "x_axis = np.arange(len(x))\n",
    "width = 0.4\n",
    "fig, ax = plt.subplots()\n",
    "ax.barh(x_axis, data_plot_df_8['2022-07-31'], width, color='maroon', label='Julho')\n",
    "ax.barh(x_axis + width, data_plot_df_8['2022-08-31'], width, color='blue', label='Agosto')\n",
    "ax.set(yticks = x_axis + width,\n",
    "       yticklabels = data_plot_df_8['modalidade'],\n",
    "       ylim = [2*width - 1, len(x)])\n",
    "plt.xlabel('Taxa de inadimplência')\n",
    "plt.ylabel('Modalidade')\n",
    "plt.title('Taxa de inadimplência por modalidade no mês de julho')\n",
    "ax.legend()\n",
    "plt.show()"
   ]
  },
  {
   "cell_type": "markdown",
   "id": "1951be59-53e9-4585-81e2-7385f32e492e",
   "metadata": {},
   "source": [
    "É evidente a grande taxa de inadimplência entre cartões de crédito e outros créditos de modo geral.\n",
    "\n",
    "Vemos que crédito com garantia real possui um nível de inadimplência significativamente mais baixo\n"
   ]
  },
  {
   "cell_type": "markdown",
   "id": "c454c555-0e63-4c75-af21-a44b055722f4",
   "metadata": {},
   "source": [
    "## Modelo de Regressão para explicar a Inadimplência Percentual"
   ]
  },
  {
   "cell_type": "markdown",
   "id": "a6c6cab0-1fd5-4785-b960-8037d2822d91",
   "metadata": {},
   "source": [
    "Para iniciar a regressão será necessário fazer mais uma breve manipulação dos dados.\n",
    "\n",
    "Primeriramente a separação entre dados de julho e agosto:"
   ]
  },
  {
   "cell_type": "code",
   "execution_count": 58,
   "id": "b60758c3-e454-4353-84a5-de7690a2dfc7",
   "metadata": {},
   "outputs": [],
   "source": [
    "df_pf_07 = df_pf[df_pf['data_base'] == '2022-07-31']\n",
    "df_pf_08 = df_pf[df_pf['data_base'] == '2022-08-31']"
   ]
  },
  {
   "cell_type": "markdown",
   "id": "4bb7c694-fdb9-4d3a-9c77-faffae232410",
   "metadata": {},
   "source": [
    "Também será preciso refazer a variável inadimplência percental para o novos DataFrames."
   ]
  },
  {
   "cell_type": "code",
   "execution_count": 59,
   "id": "aabef0ab-560b-4f20-b751-7b280fde2825",
   "metadata": {},
   "outputs": [
    {
     "name": "stderr",
     "output_type": "stream",
     "text": [
      "C:\\Users\\myjoa\\AppData\\Local\\Temp\\ipykernel_6316\\972321856.py:1: SettingWithCopyWarning: \n",
      "A value is trying to be set on a copy of a slice from a DataFrame.\n",
      "Try using .loc[row_indexer,col_indexer] = value instead\n",
      "\n",
      "See the caveats in the documentation: https://pandas.pydata.org/pandas-docs/stable/user_guide/indexing.html#returning-a-view-versus-a-copy\n",
      "  df_pf_07['inad_perc'] = df_pf_07['vencido_acima_de_15_dias'].div(df_pf_07['carteira_ativa'].values)\n",
      "C:\\Users\\myjoa\\AppData\\Local\\Temp\\ipykernel_6316\\972321856.py:3: SettingWithCopyWarning: \n",
      "A value is trying to be set on a copy of a slice from a DataFrame.\n",
      "Try using .loc[row_indexer,col_indexer] = value instead\n",
      "\n",
      "See the caveats in the documentation: https://pandas.pydata.org/pandas-docs/stable/user_guide/indexing.html#returning-a-view-versus-a-copy\n",
      "  df_pf_08['inad_perc'] = df_pf_08['vencido_acima_de_15_dias'].div(df_pf_08['carteira_ativa'].values)\n"
     ]
    }
   ],
   "source": [
    "df_pf_07['inad_perc'] = df_pf_07['vencido_acima_de_15_dias'].div(df_pf_07['carteira_ativa'].values)\n",
    "\n",
    "df_pf_08['inad_perc'] = df_pf_08['vencido_acima_de_15_dias'].div(df_pf_08['carteira_ativa'].values)"
   ]
  },
  {
   "cell_type": "markdown",
   "id": "20e41691-e5d7-43a4-8b1c-0d23ac000a72",
   "metadata": {},
   "source": [
    "Agora ajustaremos a variável \"operações\" para transformar o valor \"<15\" em um número inteiro, arredondando para 15 operações.\n",
    "\n",
    "Com isso, conseguiremos obter o valor médio de das operações de crédito por operação, sejam vencidas ou ativas."
   ]
  },
  {
   "cell_type": "code",
   "execution_count": 78,
   "id": "d4abb317-3b29-4660-ad18-ae3968e674ba",
   "metadata": {},
   "outputs": [
    {
     "ename": "KeyError",
     "evalue": "'numero_de_operacoes'",
     "output_type": "error",
     "traceback": [
      "\u001b[1;31m---------------------------------------------------------------------------\u001b[0m",
      "\u001b[1;31mKeyError\u001b[0m                                  Traceback (most recent call last)",
      "File \u001b[1;32mC:\\Anaconda\\lib\\site-packages\\pandas\\core\\indexes\\base.py:3621\u001b[0m, in \u001b[0;36mIndex.get_loc\u001b[1;34m(self, key, method, tolerance)\u001b[0m\n\u001b[0;32m   3620\u001b[0m \u001b[38;5;28;01mtry\u001b[39;00m:\n\u001b[1;32m-> 3621\u001b[0m     \u001b[38;5;28;01mreturn\u001b[39;00m \u001b[38;5;28;43mself\u001b[39;49m\u001b[38;5;241;43m.\u001b[39;49m\u001b[43m_engine\u001b[49m\u001b[38;5;241;43m.\u001b[39;49m\u001b[43mget_loc\u001b[49m\u001b[43m(\u001b[49m\u001b[43mcasted_key\u001b[49m\u001b[43m)\u001b[49m\n\u001b[0;32m   3622\u001b[0m \u001b[38;5;28;01mexcept\u001b[39;00m \u001b[38;5;167;01mKeyError\u001b[39;00m \u001b[38;5;28;01mas\u001b[39;00m err:\n",
      "File \u001b[1;32mC:\\Anaconda\\lib\\site-packages\\pandas\\_libs\\index.pyx:136\u001b[0m, in \u001b[0;36mpandas._libs.index.IndexEngine.get_loc\u001b[1;34m()\u001b[0m\n",
      "File \u001b[1;32mC:\\Anaconda\\lib\\site-packages\\pandas\\_libs\\index.pyx:163\u001b[0m, in \u001b[0;36mpandas._libs.index.IndexEngine.get_loc\u001b[1;34m()\u001b[0m\n",
      "File \u001b[1;32mpandas\\_libs\\hashtable_class_helper.pxi:5198\u001b[0m, in \u001b[0;36mpandas._libs.hashtable.PyObjectHashTable.get_item\u001b[1;34m()\u001b[0m\n",
      "File \u001b[1;32mpandas\\_libs\\hashtable_class_helper.pxi:5206\u001b[0m, in \u001b[0;36mpandas._libs.hashtable.PyObjectHashTable.get_item\u001b[1;34m()\u001b[0m\n",
      "\u001b[1;31mKeyError\u001b[0m: 'numero_de_operacoes'",
      "\nThe above exception was the direct cause of the following exception:\n",
      "\u001b[1;31mKeyError\u001b[0m                                  Traceback (most recent call last)",
      "Input \u001b[1;32mIn [78]\u001b[0m, in \u001b[0;36m<cell line: 1>\u001b[1;34m()\u001b[0m\n\u001b[1;32m----> 1\u001b[0m df_pf_07\u001b[38;5;241m.\u001b[39mloc[\u001b[43mdf_pf_07\u001b[49m\u001b[43m[\u001b[49m\u001b[38;5;124;43m'\u001b[39;49m\u001b[38;5;124;43mnumero_de_operacoes\u001b[39;49m\u001b[38;5;124;43m'\u001b[39;49m\u001b[43m]\u001b[49m \u001b[38;5;241m==\u001b[39m \u001b[38;5;124m'\u001b[39m\u001b[38;5;124m<= 15\u001b[39m\u001b[38;5;124m'\u001b[39m, \u001b[38;5;124m'\u001b[39m\u001b[38;5;124mnumero_de_operacoes\u001b[39m\u001b[38;5;124m'\u001b[39m] \u001b[38;5;241m=\u001b[39m \u001b[38;5;241m15\u001b[39m\n\u001b[0;32m      2\u001b[0m df_pf_07[\u001b[38;5;124m'\u001b[39m\u001b[38;5;124mnumero_de_operacoes\u001b[39m\u001b[38;5;124m'\u001b[39m] \u001b[38;5;241m=\u001b[39m df_pf_07[\u001b[38;5;124m'\u001b[39m\u001b[38;5;124mnumero_de_operacoes\u001b[39m\u001b[38;5;124m'\u001b[39m]\u001b[38;5;241m.\u001b[39mastype(\u001b[38;5;28mstr\u001b[39m)\u001b[38;5;241m.\u001b[39mastype(\u001b[38;5;28mint\u001b[39m)\n\u001b[0;32m      4\u001b[0m df_pf_08\u001b[38;5;241m.\u001b[39mloc[df_pf_08[\u001b[38;5;124m'\u001b[39m\u001b[38;5;124mnumero_de_operacoes\u001b[39m\u001b[38;5;124m'\u001b[39m] \u001b[38;5;241m==\u001b[39m \u001b[38;5;124m'\u001b[39m\u001b[38;5;124m<= 15\u001b[39m\u001b[38;5;124m'\u001b[39m, \u001b[38;5;124m'\u001b[39m\u001b[38;5;124mnumero_de_operacoes\u001b[39m\u001b[38;5;124m'\u001b[39m] \u001b[38;5;241m=\u001b[39m \u001b[38;5;241m15\u001b[39m\n",
      "File \u001b[1;32mC:\\Anaconda\\lib\\site-packages\\pandas\\core\\frame.py:3505\u001b[0m, in \u001b[0;36mDataFrame.__getitem__\u001b[1;34m(self, key)\u001b[0m\n\u001b[0;32m   3503\u001b[0m \u001b[38;5;28;01mif\u001b[39;00m \u001b[38;5;28mself\u001b[39m\u001b[38;5;241m.\u001b[39mcolumns\u001b[38;5;241m.\u001b[39mnlevels \u001b[38;5;241m>\u001b[39m \u001b[38;5;241m1\u001b[39m:\n\u001b[0;32m   3504\u001b[0m     \u001b[38;5;28;01mreturn\u001b[39;00m \u001b[38;5;28mself\u001b[39m\u001b[38;5;241m.\u001b[39m_getitem_multilevel(key)\n\u001b[1;32m-> 3505\u001b[0m indexer \u001b[38;5;241m=\u001b[39m \u001b[38;5;28;43mself\u001b[39;49m\u001b[38;5;241;43m.\u001b[39;49m\u001b[43mcolumns\u001b[49m\u001b[38;5;241;43m.\u001b[39;49m\u001b[43mget_loc\u001b[49m\u001b[43m(\u001b[49m\u001b[43mkey\u001b[49m\u001b[43m)\u001b[49m\n\u001b[0;32m   3506\u001b[0m \u001b[38;5;28;01mif\u001b[39;00m is_integer(indexer):\n\u001b[0;32m   3507\u001b[0m     indexer \u001b[38;5;241m=\u001b[39m [indexer]\n",
      "File \u001b[1;32mC:\\Anaconda\\lib\\site-packages\\pandas\\core\\indexes\\base.py:3623\u001b[0m, in \u001b[0;36mIndex.get_loc\u001b[1;34m(self, key, method, tolerance)\u001b[0m\n\u001b[0;32m   3621\u001b[0m     \u001b[38;5;28;01mreturn\u001b[39;00m \u001b[38;5;28mself\u001b[39m\u001b[38;5;241m.\u001b[39m_engine\u001b[38;5;241m.\u001b[39mget_loc(casted_key)\n\u001b[0;32m   3622\u001b[0m \u001b[38;5;28;01mexcept\u001b[39;00m \u001b[38;5;167;01mKeyError\u001b[39;00m \u001b[38;5;28;01mas\u001b[39;00m err:\n\u001b[1;32m-> 3623\u001b[0m     \u001b[38;5;28;01mraise\u001b[39;00m \u001b[38;5;167;01mKeyError\u001b[39;00m(key) \u001b[38;5;28;01mfrom\u001b[39;00m \u001b[38;5;21;01merr\u001b[39;00m\n\u001b[0;32m   3624\u001b[0m \u001b[38;5;28;01mexcept\u001b[39;00m \u001b[38;5;167;01mTypeError\u001b[39;00m:\n\u001b[0;32m   3625\u001b[0m     \u001b[38;5;66;03m# If we have a listlike key, _check_indexing_error will raise\u001b[39;00m\n\u001b[0;32m   3626\u001b[0m     \u001b[38;5;66;03m#  InvalidIndexError. Otherwise we fall through and re-raise\u001b[39;00m\n\u001b[0;32m   3627\u001b[0m     \u001b[38;5;66;03m#  the TypeError.\u001b[39;00m\n\u001b[0;32m   3628\u001b[0m     \u001b[38;5;28mself\u001b[39m\u001b[38;5;241m.\u001b[39m_check_indexing_error(key)\n",
      "\u001b[1;31mKeyError\u001b[0m: 'numero_de_operacoes'"
     ]
    }
   ],
   "source": [
    "df_pf_07.loc[df_pf_07['numero_de_operacoes'] == '<= 15', 'numero_de_operacoes'] = 15\n",
    "df_pf_07['numero_de_operacoes'] = df_pf_07['numero_de_operacoes'].astype(str).astype(int)\n",
    "\n",
    "df_pf_08.loc[df_pf_08['numero_de_operacoes'] == '<= 15', 'numero_de_operacoes'] = 15\n",
    "df_pf_08['numero_de_operacoes'] = df_pf_08['numero_de_operacoes'].astype(str).astype(int)"
   ]
  },
  {
   "cell_type": "markdown",
   "id": "009862ca-e2b3-4131-93a3-a38e96c7e046",
   "metadata": {},
   "source": [
    "Cálculo da média de crédito ativo e vencido por operação:"
   ]
  },
  {
   "cell_type": "code",
   "execution_count": 61,
   "id": "5e648bb7-154f-4fed-96a5-fe95774f9c22",
   "metadata": {},
   "outputs": [
    {
     "ename": "NameError",
     "evalue": "name 'df_pf_07' is not defined",
     "output_type": "error",
     "traceback": [
      "\u001b[1;31m---------------------------------------------------------------------------\u001b[0m",
      "\u001b[1;31mNameError\u001b[0m                                 Traceback (most recent call last)",
      "Input \u001b[1;32mIn [61]\u001b[0m, in \u001b[0;36m<cell line: 2>\u001b[1;34m()\u001b[0m\n\u001b[0;32m      1\u001b[0m \u001b[38;5;66;03m# Média de credito por operacao\u001b[39;00m\n\u001b[1;32m----> 2\u001b[0m df_pf_07[\u001b[38;5;124m'\u001b[39m\u001b[38;5;124mvenc_media\u001b[39m\u001b[38;5;124m'\u001b[39m] \u001b[38;5;241m=\u001b[39m \u001b[43mdf_pf_07\u001b[49m[\u001b[38;5;124m'\u001b[39m\u001b[38;5;124mvencido_acima_de_15_dias\u001b[39m\u001b[38;5;124m'\u001b[39m]\u001b[38;5;241m/\u001b[39mdf_pf_07[\u001b[38;5;124m'\u001b[39m\u001b[38;5;124mnumero_de_operacoes\u001b[39m\u001b[38;5;124m'\u001b[39m]\n\u001b[0;32m      4\u001b[0m df_pf_08[\u001b[38;5;124m'\u001b[39m\u001b[38;5;124mvenc_media\u001b[39m\u001b[38;5;124m'\u001b[39m] \u001b[38;5;241m=\u001b[39m df_pf_08[\u001b[38;5;124m'\u001b[39m\u001b[38;5;124mvencido_acima_de_15_dias\u001b[39m\u001b[38;5;124m'\u001b[39m]\u001b[38;5;241m/\u001b[39mdf_pf_08[\u001b[38;5;124m'\u001b[39m\u001b[38;5;124mnumero_de_operacoes\u001b[39m\u001b[38;5;124m'\u001b[39m]\n\u001b[0;32m      6\u001b[0m \u001b[38;5;66;03m# Média de vencido por operacao\u001b[39;00m\n",
      "\u001b[1;31mNameError\u001b[0m: name 'df_pf_07' is not defined"
     ]
    }
   ],
   "source": [
    "# Média de credito por operacao\n",
    "df_pf_07['venc_media'] = df_pf_07['vencido_acima_de_15_dias']/df_pf_07['numero_de_operacoes']\n",
    "\n",
    "df_pf_08['venc_media'] = df_pf_08['vencido_acima_de_15_dias']/df_pf_08['numero_de_operacoes']\n",
    "\n",
    "# Média de vencido por operacao\n",
    "df_pf_07['cred_media'] = df_pf_07['carteira_ativa']/df_pf_07['numero_de_operacoes']\n",
    "\n",
    "df_pf_08['cred_media'] = df_pf_08['carteira_ativa']/df_pf_08['numero_de_operacoes']"
   ]
  },
  {
   "cell_type": "markdown",
   "id": "045523b9-039d-41ae-80ec-1fc7cdf2e4c2",
   "metadata": {},
   "source": [
    "Definiremos as variáveis explicativas do percentual de inadimplência com base nas estatísticas descritivas feitas na secção acima."
   ]
  },
  {
   "cell_type": "code",
   "execution_count": null,
   "id": "9a286bd4-a42a-49ce-ae73-e9f88799feba",
   "metadata": {},
   "outputs": [],
   "source": [
    "df_pf_07_1 = df_pf_07[['uf','ocupacao','porte', 'modalidade', 'inad_perc', 'venc_media']]\n",
    "\n",
    "df_pf_08_1 = df_pf_08[['uf','ocupacao','porte', 'modalidade', 'inad_perc', 'venc_media']]"
   ]
  },
  {
   "cell_type": "markdown",
   "id": "4a923f63-5b11-45cc-a167-4f041c41e2a0",
   "metadata": {},
   "source": [
    "Transformando variáveis de classificação em dummies."
   ]
  },
  {
   "cell_type": "code",
   "execution_count": null,
   "id": "ddbd20e3-51b4-4e2c-bdd4-f96ce59ed2c0",
   "metadata": {},
   "outputs": [],
   "source": [
    "df_pf_07_dummies = pd.get_dummies(df_pf_07_1)\n",
    "\n",
    "df_pf_08_dummies = pd.get_dummies(df_pf_08_1)\n",
    "\n",
    "# Lista com os nomes das colunas (serve para os dois meses)\n",
    "names = list(df_pf_07_dummies)"
   ]
  },
  {
   "cell_type": "markdown",
   "id": "d88e4118-fe14-4764-96f9-249729715ae8",
   "metadata": {},
   "source": [
    "Formulando lista com os nomes das colunas (serve para os dois meses)."
   ]
  },
  {
   "cell_type": "markdown",
   "id": "2e4bc078-de9f-4a3c-b0e0-a130a38c12b3",
   "metadata": {},
   "source": [
    "Variáveis removidas por conta do alto P-valor"
   ]
  },
  {
   "cell_type": "code",
   "execution_count": null,
   "id": "21e310d6-d64f-4822-97c0-06f04e3b0e08",
   "metadata": {},
   "outputs": [],
   "source": [
    "names.remove('inad_perc')\n",
    "names.remove('porte_PF - Mais de 10 a 20 salários mínimos        ')\n",
    "names.remove('modalidade_PF - Veículos')\n",
    "names.remove('uf_GO')\n",
    "names.remove('uf_CE')\n",
    "names.remove('uf_ES')\n",
    "names.remove('uf_RO')\n",
    "names.remove('uf_TO')\n",
    "names.remove('ocupacao_PF - Aposentado/pensionista')           \n",
    "names.remove('ocupacao_PF - Autônomo')\n",
    "names.remove('ocupacao_PF - Empregado de empresa privada')\n",
    "names.remove('ocupacao_PF - Servidor ou empregado público')"
   ]
  },
  {
   "cell_type": "markdown",
   "id": "12c2252c-e6ed-4bda-a39a-f2daad371a83",
   "metadata": {},
   "source": [
    "Determinando variáveis explicativas e dependentes"
   ]
  },
  {
   "cell_type": "code",
   "execution_count": null,
   "id": "53f875e7-39c7-4176-a263-d58cade57c87",
   "metadata": {},
   "outputs": [],
   "source": [
    "X = df_pf_07_dummies[names]\n",
    "y = df_pf_07_dummies['inad_perc']"
   ]
  },
  {
   "cell_type": "markdown",
   "id": "7adf4382-9ab7-4f00-8010-4d146b065b6d",
   "metadata": {},
   "source": [
    "Executando modelo de regressão"
   ]
  },
  {
   "cell_type": "code",
   "execution_count": null,
   "id": "c294612d-2ca2-404a-8198-e7e839464ade",
   "metadata": {},
   "outputs": [],
   "source": [
    "# Modelo de regressão\n",
    "model_1 = sm.OLS(y, X).fit()\n",
    "model_1.summary()"
   ]
  },
  {
   "cell_type": "markdown",
   "id": "f8820cd0-f457-4dd0-ad14-0d24715d8fb9",
   "metadata": {},
   "source": [
    "Rodando as mesmas variáveis do modelo acima, mas agora para agosto"
   ]
  },
  {
   "cell_type": "code",
   "execution_count": null,
   "id": "6e0f4bda-4004-48e2-a043-6de2a2a28bce",
   "metadata": {},
   "outputs": [],
   "source": [
    "# Modelo para mês de agosto\n",
    "XX = df_pf_08_dummies[names]\n",
    "yy = df_pf_08_dummies['inad_perc']\n",
    "\n",
    "model_2 = sm.OLS(yy, XX).fit()\n",
    "model_2.summary()"
   ]
  }
 ],
 "metadata": {
  "kernelspec": {
   "display_name": "Python 3 (ipykernel)",
   "language": "python",
   "name": "python3"
  },
  "language_info": {
   "codemirror_mode": {
    "name": "ipython",
    "version": 3
   },
   "file_extension": ".py",
   "mimetype": "text/x-python",
   "name": "python",
   "nbconvert_exporter": "python",
   "pygments_lexer": "ipython3",
   "version": "3.9.12"
  },
  "toc-autonumbering": true
 },
 "nbformat": 4,
 "nbformat_minor": 5
}
